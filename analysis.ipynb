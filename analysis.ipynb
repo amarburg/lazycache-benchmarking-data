{
 "cells": [
  {
   "cell_type": "code",
   "execution_count": 18,
   "metadata": {
    "collapsed": false
   },
   "outputs": [],
   "source": [
    "import pandas as pd\n",
    "import numpy as np\n",
    "import matplotlib.pyplot as plt\n",
    "import json"
   ]
  },
  {
   "cell_type": "code",
   "execution_count": 2,
   "metadata": {
    "collapsed": false
   },
   "outputs": [],
   "source": [
    "gce_download = pd.read_json('cooked/gce_download_count10_parallelism1.json')\n",
    "ursine_download = pd.read_json('cooked/ursine_download_count10_parallelism1.json')"
   ]
  },
  {
   "cell_type": "code",
   "execution_count": 3,
   "metadata": {
    "collapsed": false
   },
   "outputs": [
    {
     "name": "stdout",
     "output_type": "stream",
     "text": [
      "13.0884130942\n"
     ]
    },
    {
     "ename": "NameError",
     "evalue": "name 'gce_mean_stddev' is not defined",
     "output_type": "error",
     "traceback": [
      "\u001b[0;31m---------------------------------------------------------------------------\u001b[0m",
      "\u001b[0;31mNameError\u001b[0m                                 Traceback (most recent call last)",
      "\u001b[0;32m<ipython-input-3-a0becee71558>\u001b[0m in \u001b[0;36m<module>\u001b[0;34m()\u001b[0m\n\u001b[1;32m     12\u001b[0m \u001b[0;34m\u001b[0m\u001b[0m\n\u001b[1;32m     13\u001b[0m \u001b[0mprint\u001b[0m\u001b[0;34m(\u001b[0m\u001b[0mgce_mean_size\u001b[0m\u001b[0;34m/\u001b[0m\u001b[0;34m(\u001b[0m\u001b[0;36m1024\u001b[0m\u001b[0;34m*\u001b[0m\u001b[0;36m1024\u001b[0m\u001b[0;34m*\u001b[0m\u001b[0;36m1024\u001b[0m\u001b[0;34m)\u001b[0m\u001b[0;34m)\u001b[0m\u001b[0;34m\u001b[0m\u001b[0m\n\u001b[0;32m---> 14\u001b[0;31m \u001b[0mprint\u001b[0m\u001b[0;34m(\u001b[0m\u001b[0mgce_mean_rate\u001b[0m\u001b[0;34m/\u001b[0m\u001b[0;34m(\u001b[0m\u001b[0;36m1024\u001b[0m\u001b[0;34m*\u001b[0m\u001b[0;36m1024\u001b[0m\u001b[0;34m)\u001b[0m\u001b[0;34m,\u001b[0m \u001b[0mgce_mean_stddev\u001b[0m\u001b[0;34m,\u001b[0m \u001b[0mgce_mean_time\u001b[0m\u001b[0;34m)\u001b[0m\u001b[0;34m\u001b[0m\u001b[0m\n\u001b[0m\u001b[1;32m     15\u001b[0m \u001b[0mprint\u001b[0m\u001b[0;34m(\u001b[0m\u001b[0mursine_mean_rate\u001b[0m\u001b[0;34m/\u001b[0m\u001b[0;34m(\u001b[0m\u001b[0;36m1024\u001b[0m\u001b[0;34m*\u001b[0m\u001b[0;36m1024\u001b[0m\u001b[0;34m)\u001b[0m\u001b[0;34m,\u001b[0m \u001b[0mursine_mean_stddev\u001b[0m\u001b[0;34m,\u001b[0m \u001b[0mursine_mean_time\u001b[0m\u001b[0;34m)\u001b[0m\u001b[0;34m\u001b[0m\u001b[0m\n",
      "\u001b[0;31mNameError\u001b[0m: name 'gce_mean_stddev' is not defined"
     ]
    }
   ],
   "source": [
    "gce_download['rate'] = gce_download['ContentLength']/gce_download['ElapsedTime']\n",
    "ursine_download['rate'] = ursine_download['ContentLength']/ursine_download['ElapsedTime']\n",
    "\n",
    "gce_mean_size = gce_download['ContentLength'].mean()\n",
    "gce_mean_rate = gce_download['rate'].mean()\n",
    "gce_stddev_rate = gce_download['rate'].std()\n",
    "gce_mean_time = gce_download['ElapsedTime'].mean()\n",
    "\n",
    "ursine_mean_rate = ursine_download['rate'].mean()\n",
    "ursine_stddev_rate = ursine_download['rate'].std()\n",
    "ursine_mean_time = ursine_download['ElapsedTime'].mean()\n",
    "\n",
    "print(gce_mean_size/(1024*1024*1024))\n",
    "print(gce_mean_rate/(1024*1024), gce_mean_stddev, gce_mean_time)\n",
    "print(ursine_mean_rate/(1024*1024), ursine_mean_stddev, ursine_mean_time)"
   ]
  },
  {
   "cell_type": "code",
   "execution_count": 35,
   "metadata": {
    "collapsed": false
   },
   "outputs": [
    {
     "ename": "AttributeError",
     "evalue": "'list' object has no attribute 'read'",
     "output_type": "error",
     "traceback": [
      "\u001b[0;31m---------------------------------------------------------------------------\u001b[0m",
      "\u001b[0;31mAttributeError\u001b[0m                            Traceback (most recent call last)",
      "\u001b[0;32m<ipython-input-35-981559c6bdd2>\u001b[0m in \u001b[0;36m<module>\u001b[0;34m()\u001b[0m\n\u001b[1;32m      4\u001b[0m \u001b[0mursine_json\u001b[0m \u001b[0;34m=\u001b[0m \u001b[0mdata\u001b[0m\u001b[0;34m[\u001b[0m\u001b[0;34m'Data'\u001b[0m\u001b[0;34m]\u001b[0m\u001b[0;34m\u001b[0m\u001b[0m\n\u001b[1;32m      5\u001b[0m \u001b[0;34m\u001b[0m\u001b[0m\n\u001b[0;32m----> 6\u001b[0;31m \u001b[0mfoo\u001b[0m \u001b[0;34m=\u001b[0m \u001b[0mjson\u001b[0m\u001b[0;34m.\u001b[0m\u001b[0mload\u001b[0m\u001b[0;34m(\u001b[0m\u001b[0mursine_json\u001b[0m\u001b[0;34m)\u001b[0m\u001b[0;34m\u001b[0m\u001b[0m\n\u001b[0m\u001b[1;32m      7\u001b[0m \u001b[0mprint\u001b[0m\u001b[0;34m(\u001b[0m\u001b[0mfoo\u001b[0m\u001b[0;34m)\u001b[0m\u001b[0;34m\u001b[0m\u001b[0m\n",
      "\u001b[0;32m/Users/aaron/src/miniconda3/lib/python3.5/json/__init__.py\u001b[0m in \u001b[0;36mload\u001b[0;34m(fp, cls, object_hook, parse_float, parse_int, parse_constant, object_pairs_hook, **kw)\u001b[0m\n\u001b[1;32m    263\u001b[0m \u001b[0;34m\u001b[0m\u001b[0m\n\u001b[1;32m    264\u001b[0m     \"\"\"\n\u001b[0;32m--> 265\u001b[0;31m     return loads(fp.read(),\n\u001b[0m\u001b[1;32m    266\u001b[0m         \u001b[0mcls\u001b[0m\u001b[0;34m=\u001b[0m\u001b[0mcls\u001b[0m\u001b[0;34m,\u001b[0m \u001b[0mobject_hook\u001b[0m\u001b[0;34m=\u001b[0m\u001b[0mobject_hook\u001b[0m\u001b[0;34m,\u001b[0m\u001b[0;34m\u001b[0m\u001b[0m\n\u001b[1;32m    267\u001b[0m         \u001b[0mparse_float\u001b[0m\u001b[0;34m=\u001b[0m\u001b[0mparse_float\u001b[0m\u001b[0;34m,\u001b[0m \u001b[0mparse_int\u001b[0m\u001b[0;34m=\u001b[0m\u001b[0mparse_int\u001b[0m\u001b[0;34m,\u001b[0m\u001b[0;34m\u001b[0m\u001b[0m\n",
      "\u001b[0;31mAttributeError\u001b[0m: 'list' object has no attribute 'read'"
     ]
    }
   ],
   "source": [
    "with open('cooked/ursine_random_frames_count841_parallelism1.json') as data_file:    \n",
    "    data = json.load(data_file)\n",
    "    \n",
    "ursine_json = data['Data']\n"
   ]
  },
  {
   "cell_type": "code",
   "execution_count": 36,
   "metadata": {
    "collapsed": false
   },
   "outputs": [
    {
     "name": "stdout",
     "output_type": "stream",
     "text": [
      "     BytesRead  ContentLength  ElapsedTime  \\\n",
      "0      3436414             -1     1.989217   \n",
      "1      2200451             -1     2.585967   \n",
      "2         8470             -1     0.793866   \n",
      "3      3421416             -1     2.056263   \n",
      "4      3431887             -1     1.813468   \n",
      "5      3449257             -1     1.911472   \n",
      "6      3432907             -1     2.184003   \n",
      "7      3432479             -1     1.912004   \n",
      "8      3425348             -1     2.242570   \n",
      "9      3449041             -1     1.909232   \n",
      "10     3445035             -1     2.259979   \n",
      "11     3442794             -1     2.050464   \n",
      "12     3440552             -1     2.165219   \n",
      "13     3003974             -1     2.181348   \n",
      "14     3446628             -1     2.270831   \n",
      "15     3445364             -1     1.951839   \n",
      "16     3447443             -1     1.932758   \n",
      "17     3439907             -1     2.000611   \n",
      "18     3438376             -1     1.941901   \n",
      "19     3458528             -1     2.257871   \n",
      "20     3445713             -1     2.015006   \n",
      "21     3441732             -1     1.767934   \n",
      "22     3443005             -1     1.851517   \n",
      "23     3446882             -1     1.880723   \n",
      "24     3446781             -1     1.833930   \n",
      "25     3441852             -1     1.968118   \n",
      "26     3427648             -1     2.015391   \n",
      "27     2735609             -1     1.952009   \n",
      "28     3442367             -1     2.025668   \n",
      "29     3451660             -1     1.753168   \n",
      "..         ...            ...          ...   \n",
      "811       8470             -1     0.564207   \n",
      "812    3437086             -1     1.997456   \n",
      "813    3453893             -1     1.958542   \n",
      "814    3451969             -1     1.927032   \n",
      "815    3455464             -1     1.990548   \n",
      "816    3436022             -1     1.948315   \n",
      "817    3444724             -1     1.911693   \n",
      "818    3447585             -1     1.773566   \n",
      "819    3435375             -1     1.922460   \n",
      "820    3434465             -1     1.951172   \n",
      "821    3444139             -1     1.885103   \n",
      "822    3414743             -1     2.029966   \n",
      "823    3454423             -1     2.496448   \n",
      "824    3432721             -1     1.783593   \n",
      "825    3449119             -1     1.941092   \n",
      "826    3440600             -1     1.927103   \n",
      "827    3444100             -1     1.951001   \n",
      "828    2745185             -1     2.411867   \n",
      "829    3446237             -1     1.823823   \n",
      "830    3435464             -1     1.915594   \n",
      "831    3453680             -1     1.879603   \n",
      "832    3442509             -1     2.048597   \n",
      "833    3442635             -1     2.058359   \n",
      "834    3438301             -1     1.969302   \n",
      "835    3413907             -1     1.873315   \n",
      "836    3452200             -1     2.228955   \n",
      "837    3440950             -1     1.785233   \n",
      "838    2749037             -1     2.115501   \n",
      "839    3449829             -1     1.850345   \n",
      "840    3431566             -1     1.925866   \n",
      "\n",
      "                                                   Url  \n",
      "0    https://ferrous-ranger-158304.appspot.com/org/...  \n",
      "1    https://ferrous-ranger-158304.appspot.com/org/...  \n",
      "2    https://ferrous-ranger-158304.appspot.com/org/...  \n",
      "3    https://ferrous-ranger-158304.appspot.com/org/...  \n",
      "4    https://ferrous-ranger-158304.appspot.com/org/...  \n",
      "5    https://ferrous-ranger-158304.appspot.com/org/...  \n",
      "6    https://ferrous-ranger-158304.appspot.com/org/...  \n",
      "7    https://ferrous-ranger-158304.appspot.com/org/...  \n",
      "8    https://ferrous-ranger-158304.appspot.com/org/...  \n",
      "9    https://ferrous-ranger-158304.appspot.com/org/...  \n",
      "10   https://ferrous-ranger-158304.appspot.com/org/...  \n",
      "11   https://ferrous-ranger-158304.appspot.com/org/...  \n",
      "12   https://ferrous-ranger-158304.appspot.com/org/...  \n",
      "13   https://ferrous-ranger-158304.appspot.com/org/...  \n",
      "14   https://ferrous-ranger-158304.appspot.com/org/...  \n",
      "15   https://ferrous-ranger-158304.appspot.com/org/...  \n",
      "16   https://ferrous-ranger-158304.appspot.com/org/...  \n",
      "17   https://ferrous-ranger-158304.appspot.com/org/...  \n",
      "18   https://ferrous-ranger-158304.appspot.com/org/...  \n",
      "19   https://ferrous-ranger-158304.appspot.com/org/...  \n",
      "20   https://ferrous-ranger-158304.appspot.com/org/...  \n",
      "21   https://ferrous-ranger-158304.appspot.com/org/...  \n",
      "22   https://ferrous-ranger-158304.appspot.com/org/...  \n",
      "23   https://ferrous-ranger-158304.appspot.com/org/...  \n",
      "24   https://ferrous-ranger-158304.appspot.com/org/...  \n",
      "25   https://ferrous-ranger-158304.appspot.com/org/...  \n",
      "26   https://ferrous-ranger-158304.appspot.com/org/...  \n",
      "27   https://ferrous-ranger-158304.appspot.com/org/...  \n",
      "28   https://ferrous-ranger-158304.appspot.com/org/...  \n",
      "29   https://ferrous-ranger-158304.appspot.com/org/...  \n",
      "..                                                 ...  \n",
      "811  https://ferrous-ranger-158304.appspot.com/org/...  \n",
      "812  https://ferrous-ranger-158304.appspot.com/org/...  \n",
      "813  https://ferrous-ranger-158304.appspot.com/org/...  \n",
      "814  https://ferrous-ranger-158304.appspot.com/org/...  \n",
      "815  https://ferrous-ranger-158304.appspot.com/org/...  \n",
      "816  https://ferrous-ranger-158304.appspot.com/org/...  \n",
      "817  https://ferrous-ranger-158304.appspot.com/org/...  \n",
      "818  https://ferrous-ranger-158304.appspot.com/org/...  \n",
      "819  https://ferrous-ranger-158304.appspot.com/org/...  \n",
      "820  https://ferrous-ranger-158304.appspot.com/org/...  \n",
      "821  https://ferrous-ranger-158304.appspot.com/org/...  \n",
      "822  https://ferrous-ranger-158304.appspot.com/org/...  \n",
      "823  https://ferrous-ranger-158304.appspot.com/org/...  \n",
      "824  https://ferrous-ranger-158304.appspot.com/org/...  \n",
      "825  https://ferrous-ranger-158304.appspot.com/org/...  \n",
      "826  https://ferrous-ranger-158304.appspot.com/org/...  \n",
      "827  https://ferrous-ranger-158304.appspot.com/org/...  \n",
      "828  https://ferrous-ranger-158304.appspot.com/org/...  \n",
      "829  https://ferrous-ranger-158304.appspot.com/org/...  \n",
      "830  https://ferrous-ranger-158304.appspot.com/org/...  \n",
      "831  https://ferrous-ranger-158304.appspot.com/org/...  \n",
      "832  https://ferrous-ranger-158304.appspot.com/org/...  \n",
      "833  https://ferrous-ranger-158304.appspot.com/org/...  \n",
      "834  https://ferrous-ranger-158304.appspot.com/org/...  \n",
      "835  https://ferrous-ranger-158304.appspot.com/org/...  \n",
      "836  https://ferrous-ranger-158304.appspot.com/org/...  \n",
      "837  https://ferrous-ranger-158304.appspot.com/org/...  \n",
      "838  https://ferrous-ranger-158304.appspot.com/org/...  \n",
      "839  https://ferrous-ranger-158304.appspot.com/org/...  \n",
      "840  https://ferrous-ranger-158304.appspot.com/org/...  \n",
      "\n",
      "[841 rows x 4 columns]\n"
     ]
    }
   ],
   "source": [
    "ursine_random = pd.read_json(json.dumps(ursine_json) )\n",
    "print(ursine_random)"
   ]
  },
  {
   "cell_type": "code",
   "execution_count": 39,
   "metadata": {
    "collapsed": false
   },
   "outputs": [
    {
     "name": "stdout",
     "output_type": "stream",
     "text": [
      "1.93093834434 0.51788292616 1623.91914759\n"
     ]
    }
   ],
   "source": [
    "ursine_mean_time = ursine_random['ElapsedTime'].mean()\n",
    "\n",
    "\n",
    "print(ursine_mean_time, 1/ursine_mean_time, ursine_random['ElapsedTime'].sum())"
   ]
  },
  {
   "cell_type": "code",
   "execution_count": 43,
   "metadata": {
    "collapsed": false
   },
   "outputs": [
    {
     "data": {
      "text/plain": [
       "0.6882160392798691"
      ]
     },
     "execution_count": 43,
     "metadata": {},
     "output_type": "execute_result"
    }
   ],
   "source": [
    "841 / (20*60 + 22)"
   ]
  },
  {
   "cell_type": "code",
   "execution_count": null,
   "metadata": {
    "collapsed": true
   },
   "outputs": [],
   "source": []
  }
 ],
 "metadata": {
  "kernelspec": {
   "display_name": "Python 3",
   "language": "python",
   "name": "python3"
  },
  "language_info": {
   "codemirror_mode": {
    "name": "ipython",
    "version": 3
   },
   "file_extension": ".py",
   "mimetype": "text/x-python",
   "name": "python",
   "nbconvert_exporter": "python",
   "pygments_lexer": "ipython3",
   "version": "3.5.2"
  }
 },
 "nbformat": 4,
 "nbformat_minor": 2
}
